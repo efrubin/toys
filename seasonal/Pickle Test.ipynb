{
 "cells": [
  {
   "cell_type": "code",
   "execution_count": 1,
   "metadata": {
    "collapsed": false
   },
   "outputs": [],
   "source": [
    "import numpy as np\n",
    "import cPickle as pickle\n",
    "import matplotlib.pyplot as plt\n",
    "from seasonal_stats import PlayerSeasonals\n",
    "\n",
    "with open('playerScoresDump') as f:\n",
    "    playerScores = pickle.load(f)"
   ]
  },
  {
   "cell_type": "code",
   "execution_count": 2,
   "metadata": {
    "collapsed": false
   },
   "outputs": [],
   "source": [
    "wins = [player.wins for player in playerScores]\n",
    "hours = [player.total for player in playerScores]\n",
    "ranks = np.arange(0,len(playerScores))\n",
    "Alan = PlayerSeasonals('Alan')"
   ]
  },
  {
   "cell_type": "code",
   "execution_count": 4,
   "metadata": {
    "collapsed": false
   },
   "outputs": [],
   "source": [
    "array_wins = np.array(wins)\n",
    "array_hours = np.array(hours)\n",
    "array_playerScores = np.array(playerScores)\n",
    "#mask = np.not_equal(wins, np.zeros(len(wins)))\n",
    "array_wins = array_wins#[mask]\n",
    "array_hours = array_hours#[mask]\n",
    "array_playerScores = array_playerScores#[mask]\n",
    "#mask2 = np.greater_equal(array_wins, 4*np.ones(59))\n",
    "atLeast = array_playerScores#[mask2]\n",
    "atLeastHours = array_hours#[mask2]\n",
    "atLeastWins = array_wins#[mask2]\n",
    "atLeastRanks = ranks#[mask]#[mask2]\n",
    "\n",
    "atLeast = np.append(atLeast, Alan)\n",
    "atLeastWins = np.append(atLeastWins, Alan.wins)\n",
    "atLeastRanks = np.append(atLeastRanks, 671)\n",
    "atLeastHours = np.append(atLeastHours, Alan.total)"
   ]
  },
  {
   "cell_type": "code",
   "execution_count": 5,
   "metadata": {
    "collapsed": false
   },
   "outputs": [],
   "source": [
    "fig = plt.figure(figsize=(32,8))\n",
    "ax = fig.add_subplot(111)\n",
    "labels = [player.name for player in atLeast]\n",
    "#print labels\n",
    "plt.plot(hours,wins, 'o', c='b', alpha=0.5)\n",
    "plt.axis([-10,2000,0,17])\n",
    "for label, x, y in zip(labels, atLeastHours, atLeastWins):\n",
    "    if np.random.rand() <= 0.5:\n",
    "        sign = -1\n",
    "    else:\n",
    "        sign = 1\n",
    "    plt.annotate(\n",
    "    label, \n",
    "    xy = (x, y), xytext = (sign*30, sign*30*np.random.rand()+np.random.randint(5,10)),\n",
    "    textcoords = 'offset points', ha = 'right', va = 'bottom',\n",
    "    bbox = dict(boxstyle = 'round,pad=0.5', fc = 'yellow', alpha = 0.7),\n",
    "    arrowprops = dict(arrowstyle = '->', connectionstyle = 'arc3,rad=0')\n",
    "    ,size=8)\n",
    "plt.title('Seasonal Hiscore Results of the top {} ranked players'.format(len(playerScores)), size=16)\n",
    "plt.xlabel('Hours Spent')\n",
    "plt.ylabel('Number of Hiscores Won')\n",
    "plt.savefig('Seasonal Hiscores')\n",
    "plt.show()"
   ]
  },
  {
   "cell_type": "code",
   "execution_count": 6,
   "metadata": {
    "collapsed": false
   },
   "outputs": [
    {
     "name": "stdout",
     "output_type": "stream",
     "text": [
      "{'Undead Kills': 0.068, 'Stealing Creation Reward Points': 0.0, 'Solo Zilyana Kills': 0.0, 'Clue Scrolls': 0.0, 'Deaths': 0.06666666666666667, 'Chronicle Fragments Offered': 854.3333333333334, 'Slayer Tower Kills': 7.9065, 'Red Imp Kills': 0.0011111111111111111, 'Wilderness PvP Kills': 0.04, 'Herbs Grown': 241.18571428571428, \"Fun Weapon Damage to K'ril\": 0.0, 'Life Points Healed': 0.8707262307692307, 'Solo Complexity 6 Dungeons': 0.0, 'Dominion Tower: Endurance Mode': 0.0}\n",
      "1104\n"
     ]
    }
   ],
   "source": [
    "skilled = PlayerSeasonals('Skilled')\n",
    "print skilled.hours\n",
    "print skilled.total"
   ]
  },
  {
   "cell_type": "code",
   "execution_count": null,
   "metadata": {
    "collapsed": true
   },
   "outputs": [],
   "source": []
  }
 ],
 "metadata": {
  "kernelspec": {
   "display_name": "Python 2",
   "language": "python",
   "name": "python2"
  },
  "language_info": {
   "codemirror_mode": {
    "name": "ipython",
    "version": 2
   },
   "file_extension": ".py",
   "mimetype": "text/x-python",
   "name": "python",
   "nbconvert_exporter": "python",
   "pygments_lexer": "ipython2",
   "version": "2.7.9"
  }
 },
 "nbformat": 4,
 "nbformat_minor": 0
}
